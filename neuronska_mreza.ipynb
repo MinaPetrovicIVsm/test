{
  "nbformat": 4,
  "nbformat_minor": 0,
  "metadata": {
    "colab": {
      "provenance": [],
      "authorship_tag": "ABX9TyO72cME7aNvu+tLY65D9zsw",
      "include_colab_link": true
    },
    "kernelspec": {
      "name": "python3",
      "display_name": "Python 3"
    },
    "language_info": {
      "name": "python"
    }
  },
  "cells": [
    {
      "cell_type": "markdown",
      "metadata": {
        "id": "view-in-github",
        "colab_type": "text"
      },
      "source": [
        "<a href=\"https://colab.research.google.com/github/MinaPetrovicIVsm/test/blob/main/neuronska_mreza.ipynb\" target=\"_parent\"><img src=\"https://colab.research.google.com/assets/colab-badge.svg\" alt=\"Open In Colab\"/></a>"
      ]
    },
    {
      "cell_type": "code",
      "execution_count": 1,
      "metadata": {
        "id": "3rssPQ6hdTyl"
      },
      "outputs": [],
      "source": [
        "import numpy as np\n",
        "import pandas as pd\n",
        "from matplotlib import pyplot as plt"
      ]
    },
    {
      "cell_type": "code",
      "source": [
        "data = pd.read_csv(\"./sample_data/mnist_train_small.csv\")"
      ],
      "metadata": {
        "id": "853mea5Gdkir"
      },
      "execution_count": 2,
      "outputs": []
    },
    {
      "cell_type": "code",
      "source": [
        "from sklearn.model_selection import train_test_split\n",
        "data = data.rename(columns={\"6\": \"label\"})\n",
        "data.head()\n",
        "print(data.shape)\n",
        "\n",
        "train, test = train_test_split(data, test_size=0.2)"
      ],
      "metadata": {
        "colab": {
          "base_uri": "https://localhost:8080/"
        },
        "id": "xKEFBYd_dtNy",
        "outputId": "8aba543b-bae6-4e3c-f85d-cbca7b6c6e10"
      },
      "execution_count": 3,
      "outputs": [
        {
          "output_type": "stream",
          "name": "stdout",
          "text": [
            "(19999, 785)\n"
          ]
        }
      ]
    },
    {
      "cell_type": "code",
      "source": [
        "train.hist(column='label')\n",
        "test.hist(column=\"label\")"
      ],
      "metadata": {
        "colab": {
          "base_uri": "https://localhost:8080/",
          "height": 905
        },
        "id": "s7x5WTdjd4WW",
        "outputId": "ac85919b-a333-442c-fcfb-22a1785895ff"
      },
      "execution_count": 4,
      "outputs": [
        {
          "output_type": "execute_result",
          "data": {
            "text/plain": [
              "array([[<Axes: title={'center': 'label'}>]], dtype=object)"
            ]
          },
          "metadata": {},
          "execution_count": 4
        },
        {
          "output_type": "display_data",
          "data": {
            "text/plain": [
              "<Figure size 640x480 with 1 Axes>"
            ],
            "image/png": "[encoded data removed]"
          },
          "metadata": {}
        },
        {
          "output_type": "display_data",
          "data": {
            "text/plain": [
              "<Figure size 640x480 with 1 Axes>"
            ],
            "image/png": "[encoded data removed]"
          },
          "metadata": {}
        }
      ]
    },
    {
      "cell_type": "code",
      "source": [
        "train = np.array(train)\n",
        "test = np.array(test)\n",
        "\n",
        "train = train.T\n",
        "\n"
      ],
      "metadata": {
        "id": "eGyUovHpd8uG"
      },
      "execution_count": 5,
      "outputs": []
    },
    {
      "cell_type": "code",
      "source": [
        "y_train = train[0]\n",
        "X_train = train[1:]\n",
        "print(X_train.shape)\n",
        "m = X_train.shape[1]\n",
        "X_train = X_train / 255\n",
        "print(y_train)"
      ],
      "metadata": {
        "colab": {
          "base_uri": "https://localhost:8080/"
        },
        "id": "IOOlkglBJ9C0",
        "outputId": "e3656fbb-7544-4fa3-b211-d30fe3072457"
      },
      "execution_count": 6,
      "outputs": [
        {
          "output_type": "stream",
          "name": "stdout",
          "text": [
            "(784, 15999)\n",
            "[1 1 1 ... 3 4 3]\n"
          ]
        }
      ]
    },
    {
      "cell_type": "code",
      "source": [
        "import torch\n",
        "import torch.nn as nn\n",
        "import torch.nn.functional as F\n",
        "\n",
        "class Model(nn.Module):\n",
        "    def __init__(self):\n",
        "        super().__init__()\n",
        "        self.net = nn.Sequential(\n",
        "            nn.Linear(784, 100),\n",
        "            nn.ReLU(),\n",
        "            nn.Linear(100, 10),\n",
        "            nn.Softmax()\n",
        "        )\n",
        "\n",
        "    def forward(self, x):\n",
        "        return self.net(x)\n",
        "\n",
        "    def predict(self, x):\n",
        "        out = self.forward(x)\n",
        "        out = torch.argmax(out, dim=1)\n",
        "        return out"
      ],
      "metadata": {
        "id": "rPbRQ8VOeHLh"
      },
      "execution_count": 7,
      "outputs": []
    },
    {
      "cell_type": "code",
      "source": [
        "import torch.nn.functional as F\n",
        "def fit(X, y, model, epoch, loss_fn, opt):\n",
        "    ohy = F.one_hot(y.to(torch.int64), 10).float()\n",
        "    for i in range(epoch):\n",
        "        loss = loss_fn(model.forward(X), ohy)\n",
        "        loss.backward()\n",
        "        opt.step()\n",
        "        opt.zero_grad()\n",
        "        # log performanse modela\n",
        "        out = model.predict(X)\n",
        "        print(out)\n",
        "        print(y)\n",
        "        acc = accuracy(out, y)\n",
        "        print(\"Accuracy: \", acc)\n",
        "\n",
        "def accuracy(pred, actual):\n",
        "    s = torch.sum(pred == actual)\n",
        "    return s.item() / len(actual)"
      ],
      "metadata": {
        "id": "vWP2WLeTIz1P"
      },
      "execution_count": 8,
      "outputs": []
    },
    {
      "cell_type": "code",
      "source": [
        "import torch.optim as optim\n",
        "import torch.nn.functional as F\n",
        "import torch\n",
        "model = Model()\n",
        "epochs = 100\n",
        "lr = 1e-3\n",
        "opt = optim.Adam(model.parameters(), lr=lr)\n",
        "loss = F.cross_entropy\n",
        "\n",
        "X = torch.from_numpy(X_train.T).float()\n",
        "y = torch.from_numpy(y_train).long()\n",
        "fit(X, y, model, epochs, loss, opt)"
      ],
      "metadata": {
        "colab": {
          "base_uri": "https://localhost:8080/"
        },
        "id": "qytVbFdOI7wT",
        "outputId": "b4bcfa2c-fe6e-4124-fe2d-8c62b6a9a75e"
      },
      "execution_count": 9,
      "outputs": [
        {
          "output_type": "stream",
          "name": "stderr",
          "text": [
            "/usr/local/lib/python3.10/dist-packages/torch/nn/modules/module.py:1511: UserWarning: Implicit dimension choice for softmax has been deprecated. Change the call to include dim=X as an argument.\n",
            "  return self._call_impl(*args, **kwargs)\n"
          ]
        },
        {
          "output_type": "stream",
          "name": "stdout",
          "text": [
            "tensor([6, 4, 4,  ..., 6, 4, 4])\n",
            "tensor([1, 1, 1,  ..., 3, 4, 3])\n",
            "Accuracy:  0.2126382898931183\n",
            "tensor([6, 4, 4,  ..., 3, 4, 4])\n",
            "tensor([1, 1, 1,  ..., 3, 4, 3])\n",
            "Accuracy:  0.36152259516219765\n",
            "tensor([1, 1, 1,  ..., 3, 4, 4])\n",
            "tensor([1, 1, 1,  ..., 3, 4, 3])\n",
            "Accuracy:  0.4657166072879555\n",
            "tensor([1, 1, 1,  ..., 3, 4, 4])\n",
            "tensor([1, 1, 1,  ..., 3, 4, 3])\n",
            "Accuracy:  0.5195324707794237\n",
            "tensor([1, 1, 1,  ..., 3, 4, 3])\n",
            "tensor([1, 1, 1,  ..., 3, 4, 3])\n",
            "Accuracy:  0.550534408400525\n",
            "tensor([1, 1, 1,  ..., 0, 4, 3])\n",
            "tensor([1, 1, 1,  ..., 3, 4, 3])\n",
            "Accuracy:  0.5635352209513095\n",
            "tensor([1, 1, 1,  ..., 0, 4, 3])\n",
            "tensor([1, 1, 1,  ..., 3, 4, 3])\n",
            "Accuracy:  0.5720357522345146\n",
            "tensor([1, 1, 1,  ..., 0, 4, 3])\n",
            "tensor([1, 1, 1,  ..., 3, 4, 3])\n",
            "Accuracy:  0.575785986624164\n",
            "tensor([1, 1, 1,  ..., 0, 4, 3])\n",
            "tensor([1, 1, 1,  ..., 3, 4, 3])\n",
            "Accuracy:  0.5741608850553159\n",
            "tensor([1, 1, 1,  ..., 0, 6, 3])\n",
            "tensor([1, 1, 1,  ..., 3, 4, 3])\n",
            "Accuracy:  0.575410963185199\n",
            "tensor([1, 1, 1,  ..., 0, 6, 3])\n",
            "tensor([1, 1, 1,  ..., 3, 4, 3])\n",
            "Accuracy:  0.577786111631977\n",
            "tensor([1, 1, 1,  ..., 0, 6, 3])\n",
            "tensor([1, 1, 1,  ..., 3, 4, 3])\n",
            "Accuracy:  0.5829739358709919\n",
            "tensor([1, 1, 1,  ..., 0, 6, 3])\n",
            "tensor([1, 1, 1,  ..., 3, 4, 3])\n",
            "Accuracy:  0.5923495218451154\n",
            "tensor([1, 1, 1,  ..., 0, 6, 3])\n",
            "tensor([1, 1, 1,  ..., 3, 4, 3])\n",
            "Accuracy:  0.6051003187699231\n",
            "tensor([1, 1, 1,  ..., 0, 6, 3])\n",
            "tensor([1, 1, 1,  ..., 3, 4, 3])\n",
            "Accuracy:  0.6174135883492718\n",
            "tensor([1, 1, 1,  ..., 0, 6, 3])\n",
            "tensor([1, 1, 1,  ..., 3, 4, 3])\n",
            "Accuracy:  0.6307894243390212\n",
            "tensor([1, 1, 1,  ..., 3, 6, 3])\n",
            "tensor([1, 1, 1,  ..., 3, 4, 3])\n",
            "Accuracy:  0.6427276704794049\n",
            "tensor([1, 1, 1,  ..., 3, 6, 3])\n",
            "tensor([1, 1, 1,  ..., 3, 4, 3])\n",
            "Accuracy:  0.6532283267704232\n",
            "tensor([1, 1, 1,  ..., 3, 4, 3])\n",
            "tensor([1, 1, 1,  ..., 3, 4, 3])\n",
            "Accuracy:  0.6614788424276518\n",
            "tensor([1, 1, 1,  ..., 3, 4, 3])\n",
            "tensor([1, 1, 1,  ..., 3, 4, 3])\n",
            "Accuracy:  0.6686042877679855\n",
            "tensor([1, 1, 1,  ..., 3, 4, 3])\n",
            "tensor([1, 1, 1,  ..., 3, 4, 3])\n",
            "Accuracy:  0.6744796549784362\n",
            "tensor([1, 1, 1,  ..., 3, 4, 3])\n",
            "tensor([1, 1, 1,  ..., 3, 4, 3])\n",
            "Accuracy:  0.6777923620226264\n",
            "tensor([1, 1, 1,  ..., 3, 4, 3])\n",
            "tensor([1, 1, 1,  ..., 3, 4, 3])\n",
            "Accuracy:  0.6793549596849803\n",
            "tensor([1, 1, 1,  ..., 3, 4, 3])\n",
            "tensor([1, 1, 1,  ..., 3, 4, 3])\n",
            "Accuracy:  0.6822301393837115\n",
            "tensor([1, 1, 1,  ..., 3, 4, 3])\n",
            "tensor([1, 1, 1,  ..., 3, 4, 3])\n",
            "Accuracy:  0.6852928308019252\n",
            "tensor([1, 1, 1,  ..., 3, 4, 3])\n",
            "tensor([1, 1, 1,  ..., 3, 4, 3])\n",
            "Accuracy:  0.687667979248703\n",
            "tensor([1, 1, 1,  ..., 3, 4, 3])\n",
            "tensor([1, 1, 1,  ..., 3, 4, 3])\n",
            "Accuracy:  0.6906681667604225\n",
            "tensor([1, 1, 1,  ..., 3, 4, 3])\n",
            "tensor([1, 1, 1,  ..., 3, 4, 3])\n",
            "Accuracy:  0.6937308581786361\n",
            "tensor([1, 1, 1,  ..., 3, 4, 3])\n",
            "tensor([1, 1, 1,  ..., 3, 4, 3])\n",
            "Accuracy:  0.6959809988124258\n",
            "tensor([1, 1, 1,  ..., 3, 4, 3])\n",
            "tensor([1, 1, 1,  ..., 3, 4, 3])\n",
            "Accuracy:  0.6984186511656979\n",
            "tensor([1, 1, 1,  ..., 3, 4, 3])\n",
            "tensor([1, 1, 1,  ..., 3, 4, 3])\n",
            "Accuracy:  0.7011688230514407\n",
            "tensor([1, 1, 1,  ..., 3, 4, 3])\n",
            "tensor([1, 1, 1,  ..., 3, 4, 3])\n",
            "Accuracy:  0.7031689480592537\n",
            "tensor([1, 1, 1,  ..., 3, 4, 3])\n",
            "tensor([1, 1, 1,  ..., 3, 4, 3])\n",
            "Accuracy:  0.7059816238514908\n",
            "tensor([1, 1, 1,  ..., 3, 4, 3])\n",
            "tensor([1, 1, 1,  ..., 3, 4, 3])\n",
            "Accuracy:  0.7083567722982687\n",
            "tensor([1, 1, 1,  ..., 3, 4, 3])\n",
            "tensor([1, 1, 1,  ..., 3, 4, 3])\n",
            "Accuracy:  0.7125445340333771\n",
            "tensor([1, 1, 1,  ..., 3, 4, 3])\n",
            "tensor([1, 1, 1,  ..., 3, 4, 3])\n",
            "Accuracy:  0.7170448153009563\n",
            "tensor([1, 1, 1,  ..., 3, 4, 3])\n",
            "tensor([1, 1, 1,  ..., 3, 4, 3])\n",
            "Accuracy:  0.7238577411088193\n",
            "tensor([1, 1, 1,  ..., 3, 4, 3])\n",
            "tensor([1, 1, 1,  ..., 3, 4, 3])\n",
            "Accuracy:  0.7362335145946621\n",
            "tensor([1, 1, 1,  ..., 3, 4, 3])\n",
            "tensor([1, 1, 1,  ..., 3, 4, 3])\n",
            "Accuracy:  0.7510469404337771\n",
            "tensor([1, 1, 1,  ..., 3, 4, 3])\n",
            "tensor([1, 1, 1,  ..., 3, 4, 3])\n",
            "Accuracy:  0.7668604287767985\n",
            "tensor([1, 1, 1,  ..., 3, 4, 3])\n",
            "tensor([1, 1, 1,  ..., 3, 4, 3])\n",
            "Accuracy:  0.7769860616288518\n",
            "tensor([1, 1, 1,  ..., 3, 4, 3])\n",
            "tensor([1, 1, 1,  ..., 3, 4, 3])\n",
            "Accuracy:  0.7847990499406213\n",
            "tensor([1, 1, 1,  ..., 3, 4, 3])\n",
            "tensor([1, 1, 1,  ..., 3, 4, 3])\n",
            "Accuracy:  0.7863616476029752\n",
            "tensor([1, 1, 1,  ..., 3, 4, 3])\n",
            "tensor([1, 1, 1,  ..., 3, 4, 3])\n",
            "Accuracy:  0.7872992062003875\n",
            "tensor([1, 1, 1,  ..., 3, 4, 3])\n",
            "tensor([1, 1, 1,  ..., 3, 4, 3])\n",
            "Accuracy:  0.7897368585536596\n",
            "tensor([1, 1, 1,  ..., 3, 4, 3])\n",
            "tensor([1, 1, 1,  ..., 3, 4, 3])\n",
            "Accuracy:  0.7923620226264142\n",
            "tensor([1, 1, 1,  ..., 3, 4, 3])\n",
            "tensor([1, 1, 1,  ..., 3, 4, 3])\n",
            "Accuracy:  0.7957372335770986\n",
            "tensor([1, 1, 1,  ..., 3, 4, 3])\n",
            "tensor([1, 1, 1,  ..., 3, 4, 3])\n",
            "Accuracy:  0.7987999249953122\n",
            "tensor([1, 1, 1,  ..., 3, 4, 3])\n",
            "tensor([1, 1, 1,  ..., 3, 4, 3])\n",
            "Accuracy:  0.8016751046940434\n",
            "tensor([1, 1, 1,  ..., 3, 4, 3])\n",
            "tensor([1, 1, 1,  ..., 3, 4, 3])\n",
            "Accuracy:  0.803550221888868\n",
            "tensor([1, 1, 1,  ..., 3, 4, 3])\n",
            "tensor([1, 1, 1,  ..., 3, 4, 3])\n",
            "Accuracy:  0.8049253078317394\n",
            "tensor([1, 1, 1,  ..., 3, 4, 3])\n",
            "tensor([1, 1, 1,  ..., 3, 4, 3])\n",
            "Accuracy:  0.8069254328395524\n",
            "tensor([1, 1, 1,  ..., 3, 4, 3])\n",
            "tensor([1, 1, 1,  ..., 3, 4, 3])\n",
            "Accuracy:  0.808363022688918\n",
            "tensor([1, 1, 1,  ..., 3, 4, 3])\n",
            "tensor([1, 1, 1,  ..., 3, 4, 3])\n",
            "Accuracy:  0.8101131320707544\n",
            "tensor([1, 1, 1,  ..., 3, 4, 3])\n",
            "tensor([1, 1, 1,  ..., 3, 4, 3])\n",
            "Accuracy:  0.8119257453590849\n",
            "tensor([1, 1, 1,  ..., 3, 4, 3])\n",
            "tensor([1, 1, 1,  ..., 3, 4, 3])\n",
            "Accuracy:  0.812738296143509\n",
            "tensor([1, 1, 1,  ..., 3, 4, 3])\n",
            "tensor([1, 1, 1,  ..., 3, 4, 3])\n",
            "Accuracy:  0.8134883430214388\n",
            "tensor([1, 1, 1,  ..., 3, 4, 3])\n",
            "tensor([1, 1, 1,  ..., 3, 4, 3])\n",
            "Accuracy:  0.8148009250578161\n",
            "tensor([1, 1, 1,  ..., 3, 4, 3])\n",
            "tensor([1, 1, 1,  ..., 3, 4, 3])\n",
            "Accuracy:  0.8158634914682168\n",
            "tensor([1, 1, 1,  ..., 3, 4, 3])\n",
            "tensor([1, 1, 1,  ..., 3, 4, 3])\n",
            "Accuracy:  0.8170510656916057\n",
            "tensor([1, 1, 1,  ..., 3, 4, 3])\n",
            "tensor([1, 1, 1,  ..., 3, 4, 3])\n",
            "Accuracy:  0.8192387024189012\n",
            "tensor([1, 1, 1,  ..., 3, 4, 3])\n",
            "tensor([1, 1, 1,  ..., 3, 4, 3])\n",
            "Accuracy:  0.8206137883617726\n",
            "tensor([1, 1, 1,  ..., 3, 4, 3])\n",
            "tensor([1, 1, 1,  ..., 3, 4, 3])\n",
            "Accuracy:  0.8214888430526908\n",
            "tensor([1, 1, 1,  ..., 3, 4, 3])\n",
            "tensor([1, 1, 1,  ..., 3, 4, 3])\n",
            "Accuracy:  0.8227389211825739\n",
            "tensor([1, 1, 1,  ..., 3, 4, 3])\n",
            "tensor([1, 1, 1,  ..., 3, 4, 3])\n",
            "Accuracy:  0.8236764797799863\n",
            "tensor([1, 1, 1,  ..., 3, 4, 3])\n",
            "tensor([1, 1, 1,  ..., 3, 4, 3])\n",
            "Accuracy:  0.8246765422838928\n",
            "tensor([1, 1, 1,  ..., 3, 4, 3])\n",
            "tensor([1, 1, 1,  ..., 3, 4, 3])\n",
            "Accuracy:  0.826364147759235\n",
            "tensor([1, 1, 1,  ..., 3, 4, 3])\n",
            "tensor([1, 1, 1,  ..., 3, 4, 3])\n",
            "Accuracy:  0.8285517844865304\n",
            "tensor([1, 1, 1,  ..., 3, 4, 3])\n",
            "tensor([1, 1, 1,  ..., 3, 4, 3])\n",
            "Accuracy:  0.8333645852865804\n",
            "tensor([1, 1, 1,  ..., 3, 4, 3])\n",
            "tensor([1, 1, 1,  ..., 3, 4, 3])\n",
            "Accuracy:  0.8391774485905369\n",
            "tensor([1, 1, 1,  ..., 3, 4, 3])\n",
            "tensor([1, 1, 1,  ..., 3, 4, 3])\n",
            "Accuracy:  0.8461778861178824\n",
            "tensor([1, 1, 1,  ..., 3, 4, 3])\n",
            "tensor([1, 1, 1,  ..., 3, 4, 3])\n",
            "Accuracy:  0.854053378336146\n",
            "tensor([1, 1, 1,  ..., 3, 4, 3])\n",
            "tensor([1, 1, 1,  ..., 3, 4, 3])\n",
            "Accuracy:  0.8619288705544097\n",
            "tensor([1, 1, 1,  ..., 3, 4, 3])\n",
            "tensor([1, 1, 1,  ..., 3, 4, 3])\n",
            "Accuracy:  0.8674917182323896\n",
            "tensor([1, 1, 1,  ..., 3, 4, 3])\n",
            "tensor([1, 1, 1,  ..., 3, 4, 3])\n",
            "Accuracy:  0.8719919994999688\n",
            "tensor([1, 1, 1,  ..., 3, 4, 3])\n",
            "tensor([1, 1, 1,  ..., 3, 4, 3])\n",
            "Accuracy:  0.8739921245077817\n",
            "tensor([1, 1, 1,  ..., 3, 4, 3])\n",
            "tensor([1, 1, 1,  ..., 3, 4, 3])\n",
            "Accuracy:  0.8766172885805363\n",
            "tensor([1, 1, 1,  ..., 3, 4, 3])\n",
            "tensor([1, 1, 1,  ..., 3, 4, 3])\n",
            "Accuracy:  0.8786174135883492\n",
            "tensor([1, 1, 1,  ..., 3, 4, 3])\n",
            "tensor([1, 1, 1,  ..., 3, 4, 3])\n",
            "Accuracy:  0.8791174448403025\n",
            "tensor([1, 1, 1,  ..., 3, 4, 3])\n",
            "tensor([1, 1, 1,  ..., 3, 4, 3])\n",
            "Accuracy:  0.8791799487467967\n",
            "tensor([1, 1, 1,  ..., 3, 4, 3])\n",
            "tensor([1, 1, 1,  ..., 3, 4, 3])\n",
            "Accuracy:  0.8788049253078317\n",
            "tensor([1, 1, 1,  ..., 3, 4, 3])\n",
            "tensor([1, 1, 1,  ..., 3, 4, 3])\n",
            "Accuracy:  0.8794924682792674\n",
            "tensor([1, 1, 1,  ..., 3, 4, 3])\n",
            "tensor([1, 1, 1,  ..., 3, 4, 3])\n",
            "Accuracy:  0.8810550659416213\n",
            "tensor([1, 1, 1,  ..., 3, 4, 3])\n",
            "tensor([1, 1, 1,  ..., 3, 4, 3])\n",
            "Accuracy:  0.8834302143883993\n",
            "tensor([1, 1, 1,  ..., 3, 4, 3])\n",
            "tensor([1, 1, 1,  ..., 3, 4, 3])\n",
            "Accuracy:  0.8866804175260954\n",
            "tensor([1, 1, 1,  ..., 3, 4, 3])\n",
            "tensor([1, 1, 1,  ..., 3, 4, 3])\n",
            "Accuracy:  0.8889930620663792\n",
            "tensor([1, 1, 1,  ..., 3, 4, 3])\n",
            "tensor([1, 1, 1,  ..., 3, 4, 3])\n",
            "Accuracy:  0.891743233952122\n",
            "tensor([1, 1, 1,  ..., 3, 4, 3])\n",
            "tensor([1, 1, 1,  ..., 3, 4, 3])\n",
            "Accuracy:  0.8939308706794175\n",
            "tensor([1, 1, 1,  ..., 3, 4, 3])\n",
            "tensor([1, 1, 1,  ..., 3, 4, 3])\n",
            "Accuracy:  0.8959934995937247\n",
            "tensor([1, 1, 1,  ..., 3, 4, 3])\n",
            "tensor([1, 1, 1,  ..., 3, 4, 3])\n",
            "Accuracy:  0.8964935308456778\n",
            "tensor([1, 1, 1,  ..., 3, 4, 3])\n",
            "tensor([1, 1, 1,  ..., 3, 4, 3])\n",
            "Accuracy:  0.8980561285080317\n",
            "tensor([1, 1, 1,  ..., 3, 4, 3])\n",
            "tensor([1, 1, 1,  ..., 3, 4, 3])\n",
            "Accuracy:  0.8988061753859616\n",
            "tensor([1, 1, 1,  ..., 3, 4, 3])\n",
            "tensor([1, 1, 1,  ..., 3, 4, 3])\n",
            "Accuracy:  0.8989936871054441\n",
            "tensor([1, 1, 1,  ..., 3, 4, 3])\n",
            "tensor([1, 1, 1,  ..., 3, 4, 3])\n",
            "Accuracy:  0.8997437339833739\n",
            "tensor([1, 1, 1,  ..., 3, 4, 3])\n",
            "tensor([1, 1, 1,  ..., 3, 4, 3])\n",
            "Accuracy:  0.9003062691418213\n",
            "tensor([1, 1, 1,  ..., 3, 4, 3])\n",
            "tensor([1, 1, 1,  ..., 3, 4, 3])\n",
            "Accuracy:  0.900181261328833\n",
            "tensor([1, 1, 1,  ..., 3, 4, 3])\n",
            "tensor([1, 1, 1,  ..., 3, 4, 3])\n",
            "Accuracy:  0.9011188199262454\n",
            "tensor([1, 1, 1,  ..., 3, 4, 3])\n",
            "tensor([1, 1, 1,  ..., 3, 4, 3])\n",
            "Accuracy:  0.9018688668041752\n",
            "tensor([1, 1, 1,  ..., 3, 4, 3])\n",
            "tensor([1, 1, 1,  ..., 3, 4, 3])\n",
            "Accuracy:  0.9026189136821051\n",
            "tensor([1, 1, 1,  ..., 3, 4, 3])\n",
            "tensor([1, 1, 1,  ..., 3, 4, 3])\n",
            "Accuracy:  0.903368960560035\n"
          ]
        }
      ]
    }
  ]
}